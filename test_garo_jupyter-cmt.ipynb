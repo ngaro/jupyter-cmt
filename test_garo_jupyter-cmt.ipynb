{
 "cells": [
  {
   "cell_type": "code",
   "execution_count": 1,
   "metadata": {},
   "outputs": [],
   "source": [
    "#Let's see if my \"cmt-version\" of jupyter has all modules you use\n",
    "import pybinding as pb ; import numpy as np ; import matplotlib as plot ; import scipy as sp ;\n",
    "import pandas as pd; import seaborn"
   ]
  },
  {
   "cell_type": "code",
   "execution_count": 2,
   "metadata": {},
   "outputs": [],
   "source": [
    "#Physics for crazy scientists that the world will probably never need... ;-)\n",
    "lattice = pb.Lattice(a1=[0.2, 0], a2=[0, 0.2])\n",
    "lattice.add_sublattices(\n",
    "    ('A', [0, 0])\n",
    ")\n",
    "lattice.add_hoppings(\n",
    "    ([0, 1], 'A', 'A', 1),\n",
    "    ([1, 0], 'A', 'A', 1)\n",
    ")"
   ]
  },
  {
   "cell_type": "code",
   "execution_count": 3,
   "metadata": {},
   "outputs": [
    {
     "data": {
      "text/plain": [
       "array([42,  3,  5])"
      ]
     },
     "execution_count": 3,
     "metadata": {},
     "output_type": "execute_result"
    }
   ],
   "source": [
    "regular_array=[42, 3, 5];  #let's create a array\n",
    "numpy_version_of_regul_array=np.array(regular_array) #and the numpy version...\n",
    "numpy_version_of_regul_array #...to show jupyter is handy for debugging"
   ]
  },
  {
   "cell_type": "code",
   "execution_count": 4,
   "metadata": {},
   "outputs": [
    {
     "data": {
      "image/png": "[encoded data removed]",
      "text/plain": [
       "<Figure size 432x288 with 1 Axes>"
      ]
     },
     "metadata": {
      "needs_background": "light"
     },
     "output_type": "display_data"
    }
   ],
   "source": [
    "lattice.plot() #and also for plotting"
   ]
  },
  {
   "cell_type": "code",
   "execution_count": 5,
   "metadata": {},
   "outputs": [
    {
     "data": {
      "text/plain": [
       "[42, 3, 5]"
      ]
     },
     "execution_count": 5,
     "metadata": {},
     "output_type": "execute_result"
    }
   ],
   "source": [
    "regular_array                                           #obviously we can also debug later in the code"
   ]
  }
 ],
 "metadata": {
  "kernelspec": {
   "display_name": "Python 3 (ipykernel)",
   "language": "python",
   "name": "python3"
  },
  "language_info": {
   "codemirror_mode": {
    "name": "ipython",
    "version": 3
   },
   "file_extension": ".py",
   "mimetype": "text/x-python",
   "name": "python",
   "nbconvert_exporter": "python",
   "pygments_lexer": "ipython3",
   "version": "3.9.7"
  }
 },
 "nbformat": 4,
 "nbformat_minor": 4
}
