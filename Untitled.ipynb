{
 "cells": [
  {
   "cell_type": "code",
   "execution_count": 1,
   "id": "fe1de8dc-9948-45ad-9cb7-3d6be3306e26",
   "metadata": {},
   "outputs": [],
   "source": [
    "import ase\n",
    "import bokeh\n",
    "import bottleneck\n",
    "import cython\n",
    "import h5py\n",
    "import keras\n",
    "import kite\n",
    "import kwant\n",
    "import maml\n",
    "import matplotlib\n",
    "import monty\n",
    "import numba\n",
    "import numpy\n",
    "import pandas\n",
    "import pybinding\n",
    "import pymatgen\n",
    "import scipy\n",
    "import seaborn\n",
    "import skimage\n",
    "import sklearn\n",
    "import spirit\n",
    "import sqlalchemy\n",
    "import statsmodels\n",
    "import sympy\n",
    "import tables\n",
    "import tensorflow\n",
    "import xlrd"
   ]
  },
  {
   "cell_type": "code",
   "execution_count": null,
   "id": "63999692-b040-44e3-9727-aec218bd59b6",
   "metadata": {},
   "outputs": [],
   "source": []
  }
 ],
 "metadata": {
  "kernelspec": {
   "display_name": "Python 3 (ipykernel)",
   "language": "python",
   "name": "python3"
  },
  "language_info": {
   "codemirror_mode": {
    "name": "ipython",
    "version": 3
   },
   "file_extension": ".py",
   "mimetype": "text/x-python",
   "name": "python",
   "nbconvert_exporter": "python",
   "pygments_lexer": "ipython3",
   "version": "3.9.13"
  }
 },
 "nbformat": 4,
 "nbformat_minor": 5
}
